{
  "cells": [
    {
      "cell_type": "markdown",
      "metadata": {
        "id": "BL2niGnHv7rA"
      },
      "source": [
        "This is a companion notebook for the book [Deep Learning with Python, Second Edition](https://www.manning.com/books/deep-learning-with-python-second-edition?a_aid=keras&a_bid=76564dff). For readability, it only contains runnable code blocks and section titles, and omits everything else in the book: text paragraphs, figures, and pseudocode.\n",
        "\n",
        "**If you want to be able to follow what's going on, I recommend reading the notebook side by side with your copy of the book.**\n",
        "\n",
        "This notebook was generated for TensorFlow 2.6."
      ]
    },
    {
      "cell_type": "markdown",
      "metadata": {
        "id": "SesxXpMhv7rF"
      },
      "source": [
        "# Fundamentals of machine learning"
      ]
    },
    {
      "cell_type": "markdown",
      "metadata": {
        "id": "RCCFf-Grv7rG"
      },
      "source": [
        "## Generalization: The goal of machine learning"
      ]
    },
    {
      "cell_type": "markdown",
      "metadata": {
        "id": "7Avh5Litv7rG"
      },
      "source": [
        "### Underfitting and overfitting"
      ]
    },
    {
      "cell_type": "markdown",
      "metadata": {
        "id": "7NrZGw33v7rH"
      },
      "source": [
        "#### Noisy training data"
      ]
    },
    {
      "cell_type": "markdown",
      "metadata": {
        "id": "9wQeWXimv7rH"
      },
      "source": [
        "#### Ambiguous features"
      ]
    },
    {
      "cell_type": "markdown",
      "metadata": {
        "id": "aN4dbkd9v7rI"
      },
      "source": [
        "#### Rare features and spurious correlations"
      ]
    },
    {
      "cell_type": "markdown",
      "metadata": {
        "id": "QS4MJupLv7rJ"
      },
      "source": [
        "**Adding white-noise channels or all-zeros channels to MNIST**"
      ]
    },
    {
      "cell_type": "code",
      "execution_count": 1,
      "metadata": {
        "id": "7-QGk7Bov7rK",
        "outputId": "55791603-b378-4c2a-f6da-be451038b34e",
        "colab": {
          "base_uri": "https://localhost:8080/"
        }
      },
      "outputs": [
        {
          "output_type": "stream",
          "name": "stdout",
          "text": [
            "Downloading data from https://storage.googleapis.com/tensorflow/tf-keras-datasets/mnist.npz\n",
            "11493376/11490434 [==============================] - 0s 0us/step\n",
            "11501568/11490434 [==============================] - 0s 0us/step\n"
          ]
        }
      ],
      "source": [
        "from tensorflow.keras.datasets import mnist\n",
        "import numpy as np\n",
        "\n",
        "(train_images, train_labels), _ = mnist.load_data()\n",
        "train_images = train_images.reshape((60000, 28 * 28))\n",
        "train_images = train_images.astype(\"float32\") / 255\n",
        "\n",
        "train_images_with_noise_channels = np.concatenate(\n",
        "    [train_images, np.random.random((len(train_images), 784))], axis=1)\n",
        "\n",
        "train_images_with_zeros_channels = np.concatenate(\n",
        "    [train_images, np.zeros((len(train_images), 784))], axis=1)"
      ]
    },
    {
      "cell_type": "markdown",
      "metadata": {
        "id": "VUE-ZGfEv7rM"
      },
      "source": [
        "**Training the same model on MNIST data with noise channels or all-zero channels**"
      ]
    },
    {
      "cell_type": "code",
      "execution_count": 2,
      "metadata": {
        "id": "zKRk5roUv7rN",
        "outputId": "699f32e5-45bb-4e89-e05d-9ea9d5999305",
        "colab": {
          "base_uri": "https://localhost:8080/"
        }
      },
      "outputs": [
        {
          "output_type": "stream",
          "name": "stdout",
          "text": [
            "Epoch 1/10\n",
            "375/375 [==============================] - 6s 6ms/step - loss: 0.6098 - accuracy: 0.8148 - val_loss: 0.2730 - val_accuracy: 0.9156\n",
            "Epoch 2/10\n",
            "375/375 [==============================] - 2s 5ms/step - loss: 0.2489 - accuracy: 0.9213 - val_loss: 0.1749 - val_accuracy: 0.9493\n",
            "Epoch 3/10\n",
            "375/375 [==============================] - 2s 5ms/step - loss: 0.1616 - accuracy: 0.9503 - val_loss: 0.1491 - val_accuracy: 0.9557\n",
            "Epoch 4/10\n",
            "375/375 [==============================] - 2s 5ms/step - loss: 0.1141 - accuracy: 0.9641 - val_loss: 0.1558 - val_accuracy: 0.9507\n",
            "Epoch 5/10\n",
            "375/375 [==============================] - 2s 5ms/step - loss: 0.0835 - accuracy: 0.9731 - val_loss: 0.1439 - val_accuracy: 0.9589\n",
            "Epoch 6/10\n",
            "375/375 [==============================] - 2s 5ms/step - loss: 0.0626 - accuracy: 0.9798 - val_loss: 0.1240 - val_accuracy: 0.9657\n",
            "Epoch 7/10\n",
            "375/375 [==============================] - 2s 5ms/step - loss: 0.0451 - accuracy: 0.9860 - val_loss: 0.1387 - val_accuracy: 0.9638\n",
            "Epoch 8/10\n",
            "375/375 [==============================] - 2s 5ms/step - loss: 0.0355 - accuracy: 0.9889 - val_loss: 0.1231 - val_accuracy: 0.9699\n",
            "Epoch 9/10\n",
            "375/375 [==============================] - 2s 5ms/step - loss: 0.0272 - accuracy: 0.9912 - val_loss: 0.1610 - val_accuracy: 0.9590\n",
            "Epoch 10/10\n",
            "375/375 [==============================] - 2s 5ms/step - loss: 0.0206 - accuracy: 0.9934 - val_loss: 0.1358 - val_accuracy: 0.9683\n",
            "Epoch 1/10\n",
            "375/375 [==============================] - 3s 6ms/step - loss: 0.2863 - accuracy: 0.9171 - val_loss: 0.1496 - val_accuracy: 0.9585\n",
            "Epoch 2/10\n",
            "375/375 [==============================] - 2s 5ms/step - loss: 0.1177 - accuracy: 0.9653 - val_loss: 0.1115 - val_accuracy: 0.9678\n",
            "Epoch 3/10\n",
            "375/375 [==============================] - 2s 5ms/step - loss: 0.0778 - accuracy: 0.9770 - val_loss: 0.0922 - val_accuracy: 0.9737\n",
            "Epoch 4/10\n",
            "375/375 [==============================] - 2s 5ms/step - loss: 0.0559 - accuracy: 0.9837 - val_loss: 0.0774 - val_accuracy: 0.9769\n",
            "Epoch 5/10\n",
            "375/375 [==============================] - 2s 5ms/step - loss: 0.0419 - accuracy: 0.9877 - val_loss: 0.0826 - val_accuracy: 0.9757\n",
            "Epoch 6/10\n",
            "375/375 [==============================] - 2s 5ms/step - loss: 0.0318 - accuracy: 0.9905 - val_loss: 0.0840 - val_accuracy: 0.9769\n",
            "Epoch 7/10\n",
            "375/375 [==============================] - 2s 5ms/step - loss: 0.0241 - accuracy: 0.9932 - val_loss: 0.0819 - val_accuracy: 0.9768\n",
            "Epoch 8/10\n",
            "375/375 [==============================] - 2s 5ms/step - loss: 0.0184 - accuracy: 0.9950 - val_loss: 0.0791 - val_accuracy: 0.9793\n",
            "Epoch 9/10\n",
            "375/375 [==============================] - 2s 5ms/step - loss: 0.0140 - accuracy: 0.9962 - val_loss: 0.0878 - val_accuracy: 0.9790\n",
            "Epoch 10/10\n",
            "375/375 [==============================] - 2s 5ms/step - loss: 0.0107 - accuracy: 0.9973 - val_loss: 0.0953 - val_accuracy: 0.9765\n"
          ]
        }
      ],
      "source": [
        "from tensorflow import keras\n",
        "from tensorflow.keras import layers\n",
        "\n",
        "def get_model():\n",
        "    model = keras.Sequential([\n",
        "        layers.Dense(512, activation=\"relu\"),\n",
        "        layers.Dense(10, activation=\"softmax\")\n",
        "    ])\n",
        "    model.compile(optimizer=\"rmsprop\",\n",
        "                  loss=\"sparse_categorical_crossentropy\",\n",
        "                  metrics=[\"accuracy\"])\n",
        "    return model\n",
        "\n",
        "model = get_model()\n",
        "history_noise = model.fit(\n",
        "    train_images_with_noise_channels, train_labels,\n",
        "    epochs=10,\n",
        "    batch_size=128,\n",
        "    validation_split=0.2)\n",
        "\n",
        "model = get_model()\n",
        "history_zeros = model.fit(\n",
        "    train_images_with_zeros_channels, train_labels,\n",
        "    epochs=10,\n",
        "    batch_size=128,\n",
        "    validation_split=0.2)"
      ]
    },
    {
      "cell_type": "markdown",
      "metadata": {
        "id": "6m89lBS2v7rN"
      },
      "source": [
        "**Plotting a validation accuracy comparison**"
      ]
    },
    {
      "cell_type": "code",
      "execution_count": 3,
      "metadata": {
        "id": "eI8B4i8iv7rO",
        "outputId": "2d33faa2-eeed-4f56-efdc-53b7e2aba59e",
        "colab": {
          "base_uri": "https://localhost:8080/",
          "height": 313
        }
      },
      "outputs": [
        {
          "output_type": "execute_result",
          "data": {
            "text/plain": [
              "<matplotlib.legend.Legend at 0x7f9cc11d24d0>"
            ]
          },
          "metadata": {},
          "execution_count": 3
        },
        {
          "output_type": "display_data",
          "data": {
            "text/plain": [
              "<Figure size 432x288 with 1 Axes>"
            ],
            "image/png": "[encoded data removed]"
          },
          "metadata": {
            "needs_background": "light"
          }
        }
      ],
      "source": [
        "import matplotlib.pyplot as plt\n",
        "val_acc_noise = history_noise.history[\"val_accuracy\"]\n",
        "val_acc_zeros = history_zeros.history[\"val_accuracy\"]\n",
        "epochs = range(1, 11)\n",
        "plt.plot(epochs, val_acc_noise, \"b-\",\n",
        "         label=\"Validation accuracy with noise channels\")\n",
        "plt.plot(epochs, val_acc_zeros, \"b--\",\n",
        "         label=\"Validation accuracy with zeros channels\")\n",
        "plt.title(\"Effect of noise channels on validation accuracy\")\n",
        "plt.xlabel(\"Epochs\")\n",
        "plt.ylabel(\"Accuracy\")\n",
        "plt.legend()"
      ]
    },
    {
      "cell_type": "markdown",
      "metadata": {
        "id": "jXXaXxEZv7rO"
      },
      "source": [
        "### The nature of generalization in deep learning"
      ]
    },
    {
      "cell_type": "markdown",
      "metadata": {
        "id": "ZejNYwjmv7rP"
      },
      "source": [
        "**Fitting a MNIST model with randomly shuffled labels**"
      ]
    },
    {
      "cell_type": "code",
      "execution_count": 4,
      "metadata": {
        "id": "j9uJGh8Lv7rP",
        "outputId": "391a5668-f0b0-4d8a-92c2-f876b922aa83",
        "colab": {
          "base_uri": "https://localhost:8080/"
        }
      },
      "outputs": [
        {
          "output_type": "stream",
          "name": "stdout",
          "text": [
            "Epoch 1/100\n",
            "375/375 [==============================] - 2s 5ms/step - loss: 2.3166 - accuracy: 0.1031 - val_loss: 2.3105 - val_accuracy: 0.1061\n",
            "Epoch 2/100\n",
            "375/375 [==============================] - 2s 4ms/step - loss: 2.2993 - accuracy: 0.1177 - val_loss: 2.3140 - val_accuracy: 0.1049\n",
            "Epoch 3/100\n",
            "375/375 [==============================] - 2s 4ms/step - loss: 2.2903 - accuracy: 0.1278 - val_loss: 2.3206 - val_accuracy: 0.1014\n",
            "Epoch 4/100\n",
            "375/375 [==============================] - 2s 4ms/step - loss: 2.2761 - accuracy: 0.1392 - val_loss: 2.3322 - val_accuracy: 0.1034\n",
            "Epoch 5/100\n",
            "375/375 [==============================] - 2s 4ms/step - loss: 2.2574 - accuracy: 0.1531 - val_loss: 2.3508 - val_accuracy: 0.1006\n",
            "Epoch 6/100\n",
            "375/375 [==============================] - 2s 7ms/step - loss: 2.2360 - accuracy: 0.1676 - val_loss: 2.3655 - val_accuracy: 0.1002\n",
            "Epoch 7/100\n",
            "375/375 [==============================] - 3s 8ms/step - loss: 2.2104 - accuracy: 0.1833 - val_loss: 2.3726 - val_accuracy: 0.0980\n",
            "Epoch 8/100\n",
            "375/375 [==============================] - 3s 7ms/step - loss: 2.1823 - accuracy: 0.1983 - val_loss: 2.3919 - val_accuracy: 0.0983\n",
            "Epoch 9/100\n",
            "375/375 [==============================] - 3s 7ms/step - loss: 2.1522 - accuracy: 0.2174 - val_loss: 2.4109 - val_accuracy: 0.1012\n",
            "Epoch 10/100\n",
            "375/375 [==============================] - 2s 6ms/step - loss: 2.1195 - accuracy: 0.2343 - val_loss: 2.4375 - val_accuracy: 0.0983\n",
            "Epoch 11/100\n",
            "375/375 [==============================] - 2s 4ms/step - loss: 2.0867 - accuracy: 0.2492 - val_loss: 2.4618 - val_accuracy: 0.0988\n",
            "Epoch 12/100\n",
            "375/375 [==============================] - 2s 4ms/step - loss: 2.0524 - accuracy: 0.2662 - val_loss: 2.4904 - val_accuracy: 0.1012\n",
            "Epoch 13/100\n",
            "375/375 [==============================] - 2s 4ms/step - loss: 2.0183 - accuracy: 0.2795 - val_loss: 2.5102 - val_accuracy: 0.0983\n",
            "Epoch 14/100\n",
            "375/375 [==============================] - 2s 4ms/step - loss: 1.9841 - accuracy: 0.2945 - val_loss: 2.5426 - val_accuracy: 0.1022\n",
            "Epoch 15/100\n",
            "375/375 [==============================] - 2s 4ms/step - loss: 1.9494 - accuracy: 0.3099 - val_loss: 2.5843 - val_accuracy: 0.1026\n",
            "Epoch 16/100\n",
            "375/375 [==============================] - 2s 4ms/step - loss: 1.9138 - accuracy: 0.3240 - val_loss: 2.6074 - val_accuracy: 0.1018\n",
            "Epoch 17/100\n",
            "375/375 [==============================] - 2s 4ms/step - loss: 1.8790 - accuracy: 0.3377 - val_loss: 2.6351 - val_accuracy: 0.1015\n",
            "Epoch 18/100\n",
            "375/375 [==============================] - 2s 4ms/step - loss: 1.8451 - accuracy: 0.3534 - val_loss: 2.6696 - val_accuracy: 0.1001\n",
            "Epoch 19/100\n",
            "375/375 [==============================] - 2s 4ms/step - loss: 1.8119 - accuracy: 0.3670 - val_loss: 2.7168 - val_accuracy: 0.0996\n",
            "Epoch 20/100\n",
            "375/375 [==============================] - 2s 4ms/step - loss: 1.7791 - accuracy: 0.3778 - val_loss: 2.7570 - val_accuracy: 0.1004\n",
            "Epoch 21/100\n",
            "375/375 [==============================] - 2s 4ms/step - loss: 1.7465 - accuracy: 0.3939 - val_loss: 2.7925 - val_accuracy: 0.1014\n",
            "Epoch 22/100\n",
            "375/375 [==============================] - 2s 4ms/step - loss: 1.7157 - accuracy: 0.4046 - val_loss: 2.8256 - val_accuracy: 0.1019\n",
            "Epoch 23/100\n",
            "375/375 [==============================] - 2s 4ms/step - loss: 1.6834 - accuracy: 0.4158 - val_loss: 2.8682 - val_accuracy: 0.0986\n",
            "Epoch 24/100\n",
            "375/375 [==============================] - 2s 4ms/step - loss: 1.6536 - accuracy: 0.4290 - val_loss: 2.9199 - val_accuracy: 0.1017\n",
            "Epoch 25/100\n",
            "375/375 [==============================] - 2s 4ms/step - loss: 1.6240 - accuracy: 0.4399 - val_loss: 2.9712 - val_accuracy: 0.0988\n",
            "Epoch 26/100\n",
            "375/375 [==============================] - 2s 4ms/step - loss: 1.5948 - accuracy: 0.4492 - val_loss: 2.9708 - val_accuracy: 0.0986\n",
            "Epoch 27/100\n",
            "375/375 [==============================] - 2s 5ms/step - loss: 1.5664 - accuracy: 0.4600 - val_loss: 3.0410 - val_accuracy: 0.1011\n",
            "Epoch 28/100\n",
            "375/375 [==============================] - 2s 4ms/step - loss: 1.5398 - accuracy: 0.4696 - val_loss: 3.0773 - val_accuracy: 0.0997\n",
            "Epoch 29/100\n",
            "375/375 [==============================] - 2s 4ms/step - loss: 1.5103 - accuracy: 0.4820 - val_loss: 3.1418 - val_accuracy: 0.0972\n",
            "Epoch 30/100\n",
            "375/375 [==============================] - 2s 4ms/step - loss: 1.4858 - accuracy: 0.4909 - val_loss: 3.1831 - val_accuracy: 0.1012\n",
            "Epoch 31/100\n",
            "375/375 [==============================] - 2s 4ms/step - loss: 1.4620 - accuracy: 0.4975 - val_loss: 3.2034 - val_accuracy: 0.0975\n",
            "Epoch 32/100\n",
            "375/375 [==============================] - 2s 4ms/step - loss: 1.4328 - accuracy: 0.5090 - val_loss: 3.2430 - val_accuracy: 0.0981\n",
            "Epoch 33/100\n",
            "375/375 [==============================] - 2s 4ms/step - loss: 1.4093 - accuracy: 0.5179 - val_loss: 3.3048 - val_accuracy: 0.0997\n",
            "Epoch 34/100\n",
            "375/375 [==============================] - 2s 4ms/step - loss: 1.3859 - accuracy: 0.5277 - val_loss: 3.3464 - val_accuracy: 0.0996\n",
            "Epoch 35/100\n",
            "375/375 [==============================] - 2s 4ms/step - loss: 1.3619 - accuracy: 0.5366 - val_loss: 3.4136 - val_accuracy: 0.1010\n",
            "Epoch 36/100\n",
            "375/375 [==============================] - 2s 4ms/step - loss: 1.3405 - accuracy: 0.5416 - val_loss: 3.4413 - val_accuracy: 0.0957\n",
            "Epoch 37/100\n",
            "375/375 [==============================] - 2s 4ms/step - loss: 1.3168 - accuracy: 0.5504 - val_loss: 3.4921 - val_accuracy: 0.0984\n",
            "Epoch 38/100\n",
            "375/375 [==============================] - 2s 5ms/step - loss: 1.2933 - accuracy: 0.5597 - val_loss: 3.5571 - val_accuracy: 0.0956\n",
            "Epoch 39/100\n",
            "375/375 [==============================] - 2s 4ms/step - loss: 1.2716 - accuracy: 0.5680 - val_loss: 3.6019 - val_accuracy: 0.0972\n",
            "Epoch 40/100\n",
            "375/375 [==============================] - 2s 5ms/step - loss: 1.2507 - accuracy: 0.5749 - val_loss: 3.6356 - val_accuracy: 0.0972\n",
            "Epoch 41/100\n",
            "375/375 [==============================] - 2s 4ms/step - loss: 1.2299 - accuracy: 0.5826 - val_loss: 3.6960 - val_accuracy: 0.0978\n",
            "Epoch 42/100\n",
            "375/375 [==============================] - 2s 4ms/step - loss: 1.2103 - accuracy: 0.5923 - val_loss: 3.7565 - val_accuracy: 0.0989\n",
            "Epoch 43/100\n",
            "375/375 [==============================] - 2s 4ms/step - loss: 1.1891 - accuracy: 0.5950 - val_loss: 3.7920 - val_accuracy: 0.0978\n",
            "Epoch 44/100\n",
            "375/375 [==============================] - 2s 4ms/step - loss: 1.1689 - accuracy: 0.6068 - val_loss: 3.8608 - val_accuracy: 0.0978\n",
            "Epoch 45/100\n",
            "375/375 [==============================] - 2s 4ms/step - loss: 1.1507 - accuracy: 0.6125 - val_loss: 3.9301 - val_accuracy: 0.0993\n",
            "Epoch 46/100\n",
            "375/375 [==============================] - 2s 4ms/step - loss: 1.1301 - accuracy: 0.6199 - val_loss: 3.9818 - val_accuracy: 0.0966\n",
            "Epoch 47/100\n",
            "375/375 [==============================] - 2s 4ms/step - loss: 1.1144 - accuracy: 0.6252 - val_loss: 4.0401 - val_accuracy: 0.0953\n",
            "Epoch 48/100\n",
            "375/375 [==============================] - 2s 4ms/step - loss: 1.0968 - accuracy: 0.6317 - val_loss: 4.0955 - val_accuracy: 0.1003\n",
            "Epoch 49/100\n",
            "375/375 [==============================] - 2s 5ms/step - loss: 1.0790 - accuracy: 0.6370 - val_loss: 4.1413 - val_accuracy: 0.0972\n",
            "Epoch 50/100\n",
            "375/375 [==============================] - 2s 5ms/step - loss: 1.0615 - accuracy: 0.6451 - val_loss: 4.1808 - val_accuracy: 0.0980\n",
            "Epoch 51/100\n",
            "375/375 [==============================] - 2s 6ms/step - loss: 1.0452 - accuracy: 0.6474 - val_loss: 4.2390 - val_accuracy: 0.1018\n",
            "Epoch 52/100\n",
            "375/375 [==============================] - 2s 4ms/step - loss: 1.0281 - accuracy: 0.6546 - val_loss: 4.2874 - val_accuracy: 0.0995\n",
            "Epoch 53/100\n",
            "375/375 [==============================] - 2s 4ms/step - loss: 1.0107 - accuracy: 0.6640 - val_loss: 4.3372 - val_accuracy: 0.0975\n",
            "Epoch 54/100\n",
            "375/375 [==============================] - 2s 4ms/step - loss: 0.9940 - accuracy: 0.6661 - val_loss: 4.4170 - val_accuracy: 0.1003\n",
            "Epoch 55/100\n",
            "375/375 [==============================] - 2s 4ms/step - loss: 0.9820 - accuracy: 0.6710 - val_loss: 4.4850 - val_accuracy: 0.0966\n",
            "Epoch 56/100\n",
            "375/375 [==============================] - 2s 4ms/step - loss: 0.9626 - accuracy: 0.6771 - val_loss: 4.5266 - val_accuracy: 0.0955\n",
            "Epoch 57/100\n",
            "375/375 [==============================] - 2s 4ms/step - loss: 0.9492 - accuracy: 0.6840 - val_loss: 4.5843 - val_accuracy: 0.0974\n",
            "Epoch 58/100\n",
            "375/375 [==============================] - 2s 4ms/step - loss: 0.9360 - accuracy: 0.6890 - val_loss: 4.6235 - val_accuracy: 0.0966\n",
            "Epoch 59/100\n",
            "375/375 [==============================] - 2s 4ms/step - loss: 0.9206 - accuracy: 0.6945 - val_loss: 4.7133 - val_accuracy: 0.0988\n",
            "Epoch 60/100\n",
            "375/375 [==============================] - 2s 4ms/step - loss: 0.9073 - accuracy: 0.6996 - val_loss: 4.7337 - val_accuracy: 0.0996\n",
            "Epoch 61/100\n",
            "375/375 [==============================] - 2s 4ms/step - loss: 0.8910 - accuracy: 0.7044 - val_loss: 4.7917 - val_accuracy: 0.0989\n",
            "Epoch 62/100\n",
            "375/375 [==============================] - 2s 5ms/step - loss: 0.8773 - accuracy: 0.7101 - val_loss: 4.9195 - val_accuracy: 0.0985\n",
            "Epoch 63/100\n",
            "375/375 [==============================] - 2s 4ms/step - loss: 0.8646 - accuracy: 0.7121 - val_loss: 4.9347 - val_accuracy: 0.0993\n",
            "Epoch 64/100\n",
            "375/375 [==============================] - 2s 4ms/step - loss: 0.8529 - accuracy: 0.7173 - val_loss: 5.0110 - val_accuracy: 0.1024\n",
            "Epoch 65/100\n",
            "375/375 [==============================] - 2s 4ms/step - loss: 0.8399 - accuracy: 0.7193 - val_loss: 5.0262 - val_accuracy: 0.1002\n",
            "Epoch 66/100\n",
            "375/375 [==============================] - 2s 4ms/step - loss: 0.8262 - accuracy: 0.7278 - val_loss: 5.1320 - val_accuracy: 0.1005\n",
            "Epoch 67/100\n",
            "375/375 [==============================] - 2s 4ms/step - loss: 0.8141 - accuracy: 0.7289 - val_loss: 5.1729 - val_accuracy: 0.0992\n",
            "Epoch 68/100\n",
            "375/375 [==============================] - 2s 4ms/step - loss: 0.8030 - accuracy: 0.7345 - val_loss: 5.2549 - val_accuracy: 0.0967\n",
            "Epoch 69/100\n",
            "375/375 [==============================] - 2s 4ms/step - loss: 0.7883 - accuracy: 0.7401 - val_loss: 5.3353 - val_accuracy: 0.0994\n",
            "Epoch 70/100\n",
            "375/375 [==============================] - 2s 4ms/step - loss: 0.7784 - accuracy: 0.7445 - val_loss: 5.3995 - val_accuracy: 0.0960\n",
            "Epoch 71/100\n",
            "375/375 [==============================] - 2s 4ms/step - loss: 0.7643 - accuracy: 0.7494 - val_loss: 5.4380 - val_accuracy: 0.0996\n",
            "Epoch 72/100\n",
            "375/375 [==============================] - 2s 4ms/step - loss: 0.7529 - accuracy: 0.7520 - val_loss: 5.4877 - val_accuracy: 0.1004\n",
            "Epoch 73/100\n",
            "375/375 [==============================] - 2s 4ms/step - loss: 0.7435 - accuracy: 0.7555 - val_loss: 5.5464 - val_accuracy: 0.1002\n",
            "Epoch 74/100\n",
            "375/375 [==============================] - 2s 4ms/step - loss: 0.7316 - accuracy: 0.7609 - val_loss: 5.5987 - val_accuracy: 0.0980\n",
            "Epoch 75/100\n",
            "375/375 [==============================] - 2s 5ms/step - loss: 0.7209 - accuracy: 0.7644 - val_loss: 5.6924 - val_accuracy: 0.0974\n",
            "Epoch 76/100\n",
            "375/375 [==============================] - 2s 4ms/step - loss: 0.7105 - accuracy: 0.7665 - val_loss: 5.7725 - val_accuracy: 0.0962\n",
            "Epoch 77/100\n",
            "375/375 [==============================] - 2s 4ms/step - loss: 0.6982 - accuracy: 0.7705 - val_loss: 5.8432 - val_accuracy: 0.0998\n",
            "Epoch 78/100\n",
            "375/375 [==============================] - 2s 4ms/step - loss: 0.6877 - accuracy: 0.7762 - val_loss: 5.8914 - val_accuracy: 0.1039\n",
            "Epoch 79/100\n",
            "375/375 [==============================] - 2s 4ms/step - loss: 0.6806 - accuracy: 0.7778 - val_loss: 5.9632 - val_accuracy: 0.0992\n",
            "Epoch 80/100\n",
            "375/375 [==============================] - 2s 5ms/step - loss: 0.6694 - accuracy: 0.7811 - val_loss: 6.0290 - val_accuracy: 0.0975\n",
            "Epoch 81/100\n",
            "375/375 [==============================] - 2s 4ms/step - loss: 0.6585 - accuracy: 0.7859 - val_loss: 6.0517 - val_accuracy: 0.1008\n",
            "Epoch 82/100\n",
            "375/375 [==============================] - 2s 4ms/step - loss: 0.6471 - accuracy: 0.7870 - val_loss: 6.1244 - val_accuracy: 0.0997\n",
            "Epoch 83/100\n",
            "375/375 [==============================] - 2s 5ms/step - loss: 0.6381 - accuracy: 0.7947 - val_loss: 6.2058 - val_accuracy: 0.1010\n",
            "Epoch 84/100\n",
            "375/375 [==============================] - 2s 4ms/step - loss: 0.6316 - accuracy: 0.7928 - val_loss: 6.2597 - val_accuracy: 0.0978\n",
            "Epoch 85/100\n",
            "375/375 [==============================] - 2s 4ms/step - loss: 0.6206 - accuracy: 0.7988 - val_loss: 6.3546 - val_accuracy: 0.0993\n",
            "Epoch 86/100\n",
            "375/375 [==============================] - 2s 5ms/step - loss: 0.6128 - accuracy: 0.8021 - val_loss: 6.3782 - val_accuracy: 0.1008\n",
            "Epoch 87/100\n",
            "375/375 [==============================] - 2s 4ms/step - loss: 0.6036 - accuracy: 0.8037 - val_loss: 6.4935 - val_accuracy: 0.0970\n",
            "Epoch 88/100\n",
            "375/375 [==============================] - 2s 4ms/step - loss: 0.5941 - accuracy: 0.8073 - val_loss: 6.4980 - val_accuracy: 0.1002\n",
            "Epoch 89/100\n",
            "375/375 [==============================] - 2s 4ms/step - loss: 0.5861 - accuracy: 0.8112 - val_loss: 6.6273 - val_accuracy: 0.0962\n",
            "Epoch 90/100\n",
            "375/375 [==============================] - 2s 4ms/step - loss: 0.5764 - accuracy: 0.8137 - val_loss: 6.6807 - val_accuracy: 0.0969\n",
            "Epoch 91/100\n",
            "375/375 [==============================] - 2s 5ms/step - loss: 0.5713 - accuracy: 0.8151 - val_loss: 6.7183 - val_accuracy: 0.0999\n",
            "Epoch 92/100\n",
            "375/375 [==============================] - 2s 4ms/step - loss: 0.5592 - accuracy: 0.8199 - val_loss: 6.7947 - val_accuracy: 0.1005\n",
            "Epoch 93/100\n",
            "375/375 [==============================] - 2s 4ms/step - loss: 0.5513 - accuracy: 0.8214 - val_loss: 6.8935 - val_accuracy: 0.0988\n",
            "Epoch 94/100\n",
            "375/375 [==============================] - 2s 4ms/step - loss: 0.5446 - accuracy: 0.8229 - val_loss: 6.9344 - val_accuracy: 0.0968\n",
            "Epoch 95/100\n",
            "375/375 [==============================] - 2s 4ms/step - loss: 0.5365 - accuracy: 0.8277 - val_loss: 7.0241 - val_accuracy: 0.0983\n",
            "Epoch 96/100\n",
            "375/375 [==============================] - 2s 5ms/step - loss: 0.5300 - accuracy: 0.8285 - val_loss: 7.1280 - val_accuracy: 0.0972\n",
            "Epoch 97/100\n",
            "375/375 [==============================] - 2s 4ms/step - loss: 0.5223 - accuracy: 0.8320 - val_loss: 7.1294 - val_accuracy: 0.0969\n",
            "Epoch 98/100\n",
            "375/375 [==============================] - 2s 4ms/step - loss: 0.5152 - accuracy: 0.8345 - val_loss: 7.1825 - val_accuracy: 0.0982\n",
            "Epoch 99/100\n",
            "375/375 [==============================] - 2s 5ms/step - loss: 0.5071 - accuracy: 0.8369 - val_loss: 7.2666 - val_accuracy: 0.1023\n",
            "Epoch 100/100\n",
            "375/375 [==============================] - 2s 4ms/step - loss: 0.4994 - accuracy: 0.8396 - val_loss: 7.3903 - val_accuracy: 0.0986\n"
          ]
        },
        {
          "output_type": "execute_result",
          "data": {
            "text/plain": [
              "<keras.callbacks.History at 0x7f9d3012d890>"
            ]
          },
          "metadata": {},
          "execution_count": 4
        }
      ],
      "source": [
        "(train_images, train_labels), _ = mnist.load_data()\n",
        "train_images = train_images.reshape((60000, 28 * 28))\n",
        "train_images = train_images.astype(\"float32\") / 255\n",
        "\n",
        "random_train_labels = train_labels[:]\n",
        "np.random.shuffle(random_train_labels)\n",
        "\n",
        "model = keras.Sequential([\n",
        "    layers.Dense(512, activation=\"relu\"),\n",
        "    layers.Dense(10, activation=\"softmax\")\n",
        "])\n",
        "model.compile(optimizer=\"rmsprop\",\n",
        "              loss=\"sparse_categorical_crossentropy\",\n",
        "              metrics=[\"accuracy\"])\n",
        "model.fit(train_images, random_train_labels,\n",
        "          epochs=100,\n",
        "          batch_size=128,\n",
        "          validation_split=0.2)"
      ]
    },
    {
      "cell_type": "markdown",
      "metadata": {
        "id": "DeaGXjrWv7rQ"
      },
      "source": [
        "#### The manifold hypothesis"
      ]
    },
    {
      "cell_type": "markdown",
      "metadata": {
        "id": "DrJwYadBv7rQ"
      },
      "source": [
        "#### Interpolation as a source of generalization"
      ]
    },
    {
      "cell_type": "markdown",
      "metadata": {
        "id": "5L-KctCcv7rQ"
      },
      "source": [
        "#### Why deep learning works"
      ]
    },
    {
      "cell_type": "markdown",
      "metadata": {
        "id": "4SVdUjJ9v7rR"
      },
      "source": [
        "#### Training data is paramount"
      ]
    },
    {
      "cell_type": "markdown",
      "metadata": {
        "id": "5kiHgn-yv7rR"
      },
      "source": [
        "## Evaluating machine-learning models"
      ]
    },
    {
      "cell_type": "markdown",
      "metadata": {
        "id": "n3k58ribv7rR"
      },
      "source": [
        "### Training, validation, and test sets"
      ]
    },
    {
      "cell_type": "markdown",
      "metadata": {
        "id": "2QK9d2qYv7rS"
      },
      "source": [
        "#### Simple hold-out validation"
      ]
    },
    {
      "cell_type": "markdown",
      "metadata": {
        "id": "deN-cpy6v7rT"
      },
      "source": [
        "#### K-fold validation"
      ]
    },
    {
      "cell_type": "markdown",
      "metadata": {
        "id": "xyFQf3njv7rT"
      },
      "source": [
        "#### Iterated K-fold validation with shuffling"
      ]
    },
    {
      "cell_type": "markdown",
      "metadata": {
        "id": "DdzUqXr2v7rT"
      },
      "source": [
        "### Beating a common-sense baseline"
      ]
    },
    {
      "cell_type": "markdown",
      "metadata": {
        "id": "LLt7kyWQv7rU"
      },
      "source": [
        "### Things to keep in mind about model evaluation"
      ]
    },
    {
      "cell_type": "markdown",
      "metadata": {
        "id": "DtnoaaQPv7rU"
      },
      "source": [
        "## Improving model fit"
      ]
    },
    {
      "cell_type": "markdown",
      "metadata": {
        "id": "uL3UhhkZv7rU"
      },
      "source": [
        "### Tuning key gradient descent parameters"
      ]
    },
    {
      "cell_type": "markdown",
      "metadata": {
        "id": "6h6NQ-fSv7rU"
      },
      "source": [
        "**Training a MNIST model with an incorrectly high learning rate**"
      ]
    },
    {
      "cell_type": "code",
      "execution_count": 5,
      "metadata": {
        "id": "-9koLssNv7rU",
        "outputId": "121aeda5-261f-4cb3-b342-acf3b142a199",
        "colab": {
          "base_uri": "https://localhost:8080/"
        }
      },
      "outputs": [
        {
          "output_type": "stream",
          "name": "stdout",
          "text": [
            "Epoch 1/10\n",
            "375/375 [==============================] - 2s 5ms/step - loss: 1019.6594 - accuracy: 0.4232 - val_loss: 2.2699 - val_accuracy: 0.2481\n",
            "Epoch 2/10\n",
            "375/375 [==============================] - 2s 4ms/step - loss: 3.5522 - accuracy: 0.2881 - val_loss: 3.5557 - val_accuracy: 0.3697\n",
            "Epoch 3/10\n",
            "375/375 [==============================] - 2s 4ms/step - loss: 3.7754 - accuracy: 0.2878 - val_loss: 2.1309 - val_accuracy: 0.2444\n",
            "Epoch 4/10\n",
            "375/375 [==============================] - 2s 4ms/step - loss: 2.7557 - accuracy: 0.2660 - val_loss: 2.1806 - val_accuracy: 0.2587\n",
            "Epoch 5/10\n",
            "375/375 [==============================] - 2s 4ms/step - loss: 2.6439 - accuracy: 0.2586 - val_loss: 2.5043 - val_accuracy: 0.2502\n",
            "Epoch 6/10\n",
            "375/375 [==============================] - 2s 4ms/step - loss: 2.7448 - accuracy: 0.2515 - val_loss: 2.1100 - val_accuracy: 0.2222\n",
            "Epoch 7/10\n",
            "375/375 [==============================] - 2s 4ms/step - loss: 2.5356 - accuracy: 0.2520 - val_loss: 4.0546 - val_accuracy: 0.2787\n",
            "Epoch 8/10\n",
            "375/375 [==============================] - 2s 5ms/step - loss: 2.4493 - accuracy: 0.2496 - val_loss: 2.0049 - val_accuracy: 0.2482\n",
            "Epoch 9/10\n",
            "375/375 [==============================] - 2s 4ms/step - loss: 2.7661 - accuracy: 0.2640 - val_loss: 2.9548 - val_accuracy: 0.2615\n",
            "Epoch 10/10\n",
            "375/375 [==============================] - 2s 5ms/step - loss: 2.3204 - accuracy: 0.2707 - val_loss: 2.1276 - val_accuracy: 0.3052\n"
          ]
        },
        {
          "output_type": "execute_result",
          "data": {
            "text/plain": [
              "<keras.callbacks.History at 0x7f9cc0b45d90>"
            ]
          },
          "metadata": {},
          "execution_count": 5
        }
      ],
      "source": [
        "(train_images, train_labels), _ = mnist.load_data()\n",
        "train_images = train_images.reshape((60000, 28 * 28))\n",
        "train_images = train_images.astype(\"float32\") / 255\n",
        "\n",
        "model = keras.Sequential([\n",
        "    layers.Dense(512, activation=\"relu\"),\n",
        "    layers.Dense(10, activation=\"softmax\")\n",
        "])\n",
        "model.compile(optimizer=keras.optimizers.RMSprop(1.),\n",
        "              loss=\"sparse_categorical_crossentropy\",\n",
        "              metrics=[\"accuracy\"])\n",
        "model.fit(train_images, train_labels,\n",
        "          epochs=10,\n",
        "          batch_size=128,\n",
        "          validation_split=0.2)"
      ]
    },
    {
      "cell_type": "markdown",
      "metadata": {
        "id": "OuOCAP_pv7rV"
      },
      "source": [
        "**The same model with a more appropriate learning rate**"
      ]
    },
    {
      "cell_type": "code",
      "execution_count": 6,
      "metadata": {
        "id": "zhK35X4Dv7rV",
        "outputId": "f9bc5b14-8c07-409b-cbf9-b50117178677",
        "colab": {
          "base_uri": "https://localhost:8080/"
        }
      },
      "outputs": [
        {
          "output_type": "stream",
          "name": "stdout",
          "text": [
            "Epoch 1/10\n",
            "375/375 [==============================] - 2s 5ms/step - loss: 0.4057 - accuracy: 0.9100 - val_loss: 0.2097 - val_accuracy: 0.9456\n",
            "Epoch 2/10\n",
            "375/375 [==============================] - 2s 5ms/step - loss: 0.1441 - accuracy: 0.9629 - val_loss: 0.1525 - val_accuracy: 0.9614\n",
            "Epoch 3/10\n",
            "375/375 [==============================] - 2s 4ms/step - loss: 0.1187 - accuracy: 0.9724 - val_loss: 0.1457 - val_accuracy: 0.9718\n",
            "Epoch 4/10\n",
            "375/375 [==============================] - 2s 5ms/step - loss: 0.0960 - accuracy: 0.9780 - val_loss: 0.1931 - val_accuracy: 0.9682\n",
            "Epoch 5/10\n",
            "375/375 [==============================] - 2s 5ms/step - loss: 0.0850 - accuracy: 0.9817 - val_loss: 0.2075 - val_accuracy: 0.9716\n",
            "Epoch 6/10\n",
            "375/375 [==============================] - 2s 5ms/step - loss: 0.0806 - accuracy: 0.9833 - val_loss: 0.2893 - val_accuracy: 0.9599\n",
            "Epoch 7/10\n",
            "375/375 [==============================] - 2s 4ms/step - loss: 0.0687 - accuracy: 0.9858 - val_loss: 0.2357 - val_accuracy: 0.9722\n",
            "Epoch 8/10\n",
            "375/375 [==============================] - 2s 4ms/step - loss: 0.0659 - accuracy: 0.9873 - val_loss: 0.2189 - val_accuracy: 0.9756\n",
            "Epoch 9/10\n",
            "375/375 [==============================] - 2s 5ms/step - loss: 0.0512 - accuracy: 0.9894 - val_loss: 0.2779 - val_accuracy: 0.9737\n",
            "Epoch 10/10\n",
            "375/375 [==============================] - 2s 4ms/step - loss: 0.0555 - accuracy: 0.9903 - val_loss: 0.2885 - val_accuracy: 0.9724\n"
          ]
        },
        {
          "output_type": "execute_result",
          "data": {
            "text/plain": [
              "<keras.callbacks.History at 0x7f9cbcd71910>"
            ]
          },
          "metadata": {},
          "execution_count": 6
        }
      ],
      "source": [
        "model = keras.Sequential([\n",
        "    layers.Dense(512, activation=\"relu\"),\n",
        "    layers.Dense(10, activation=\"softmax\")\n",
        "])\n",
        "model.compile(optimizer=keras.optimizers.RMSprop(1e-2),\n",
        "              loss=\"sparse_categorical_crossentropy\",\n",
        "              metrics=[\"accuracy\"])\n",
        "model.fit(train_images, train_labels,\n",
        "          epochs=10,\n",
        "          batch_size=128,\n",
        "          validation_split=0.2)"
      ]
    },
    {
      "cell_type": "markdown",
      "metadata": {
        "id": "nSqdBAnfv7rV"
      },
      "source": [
        "### Leveraging better architecture priors"
      ]
    },
    {
      "cell_type": "markdown",
      "metadata": {
        "id": "nK58zutFv7rV"
      },
      "source": [
        "### Increasing model capacity"
      ]
    },
    {
      "cell_type": "markdown",
      "metadata": {
        "id": "h56lYd9Xv7rW"
      },
      "source": [
        "**A simple logistic regression on MNIST**"
      ]
    },
    {
      "cell_type": "code",
      "execution_count": 7,
      "metadata": {
        "id": "eewvD0-6v7rW",
        "outputId": "5d6ffe4d-da6e-4d1f-8bbd-151a384a80ba",
        "colab": {
          "base_uri": "https://localhost:8080/"
        }
      },
      "outputs": [
        {
          "output_type": "stream",
          "name": "stdout",
          "text": [
            "Epoch 1/20\n",
            "375/375 [==============================] - 2s 4ms/step - loss: 0.6728 - accuracy: 0.8340 - val_loss: 0.3571 - val_accuracy: 0.9046\n",
            "Epoch 2/20\n",
            "375/375 [==============================] - 1s 4ms/step - loss: 0.3515 - accuracy: 0.9034 - val_loss: 0.3075 - val_accuracy: 0.9150\n",
            "Epoch 3/20\n",
            "375/375 [==============================] - 1s 4ms/step - loss: 0.3155 - accuracy: 0.9118 - val_loss: 0.2897 - val_accuracy: 0.9194\n",
            "Epoch 4/20\n",
            "375/375 [==============================] - 2s 4ms/step - loss: 0.2993 - accuracy: 0.9169 - val_loss: 0.2806 - val_accuracy: 0.9223\n",
            "Epoch 5/20\n",
            "375/375 [==============================] - 2s 4ms/step - loss: 0.2895 - accuracy: 0.9193 - val_loss: 0.2755 - val_accuracy: 0.9239\n",
            "Epoch 6/20\n",
            "375/375 [==============================] - 1s 4ms/step - loss: 0.2830 - accuracy: 0.9216 - val_loss: 0.2699 - val_accuracy: 0.9277\n",
            "Epoch 7/20\n",
            "375/375 [==============================] - 2s 4ms/step - loss: 0.2783 - accuracy: 0.9223 - val_loss: 0.2689 - val_accuracy: 0.9263\n",
            "Epoch 8/20\n",
            "375/375 [==============================] - 2s 4ms/step - loss: 0.2742 - accuracy: 0.9236 - val_loss: 0.2665 - val_accuracy: 0.9277\n",
            "Epoch 9/20\n",
            "375/375 [==============================] - 2s 4ms/step - loss: 0.2714 - accuracy: 0.9249 - val_loss: 0.2651 - val_accuracy: 0.9286\n",
            "Epoch 10/20\n",
            "375/375 [==============================] - 1s 4ms/step - loss: 0.2688 - accuracy: 0.9253 - val_loss: 0.2644 - val_accuracy: 0.9288\n",
            "Epoch 11/20\n",
            "375/375 [==============================] - 1s 4ms/step - loss: 0.2667 - accuracy: 0.9263 - val_loss: 0.2628 - val_accuracy: 0.9304\n",
            "Epoch 12/20\n",
            "375/375 [==============================] - 2s 4ms/step - loss: 0.2647 - accuracy: 0.9267 - val_loss: 0.2624 - val_accuracy: 0.9293\n",
            "Epoch 13/20\n",
            "375/375 [==============================] - 1s 4ms/step - loss: 0.2632 - accuracy: 0.9279 - val_loss: 0.2630 - val_accuracy: 0.9293\n",
            "Epoch 14/20\n",
            "375/375 [==============================] - 2s 4ms/step - loss: 0.2617 - accuracy: 0.9278 - val_loss: 0.2617 - val_accuracy: 0.9298\n",
            "Epoch 15/20\n",
            "375/375 [==============================] - 1s 4ms/step - loss: 0.2604 - accuracy: 0.9283 - val_loss: 0.2604 - val_accuracy: 0.9302\n",
            "Epoch 16/20\n",
            "375/375 [==============================] - 1s 4ms/step - loss: 0.2593 - accuracy: 0.9287 - val_loss: 0.2611 - val_accuracy: 0.9313\n",
            "Epoch 17/20\n",
            "375/375 [==============================] - 2s 4ms/step - loss: 0.2582 - accuracy: 0.9291 - val_loss: 0.2611 - val_accuracy: 0.9296\n",
            "Epoch 18/20\n",
            "375/375 [==============================] - 1s 4ms/step - loss: 0.2572 - accuracy: 0.9298 - val_loss: 0.2612 - val_accuracy: 0.9304\n",
            "Epoch 19/20\n",
            "375/375 [==============================] - 1s 4ms/step - loss: 0.2565 - accuracy: 0.9297 - val_loss: 0.2613 - val_accuracy: 0.9308\n",
            "Epoch 20/20\n",
            "375/375 [==============================] - 1s 4ms/step - loss: 0.2557 - accuracy: 0.9304 - val_loss: 0.2609 - val_accuracy: 0.9315\n"
          ]
        }
      ],
      "source": [
        "model = keras.Sequential([layers.Dense(10, activation=\"softmax\")])\n",
        "model.compile(optimizer=\"rmsprop\",\n",
        "              loss=\"sparse_categorical_crossentropy\",\n",
        "              metrics=[\"accuracy\"])\n",
        "history_small_model = model.fit(\n",
        "    train_images, train_labels,\n",
        "    epochs=20,\n",
        "    batch_size=128,\n",
        "    validation_split=0.2)"
      ]
    },
    {
      "cell_type": "code",
      "execution_count": 8,
      "metadata": {
        "id": "dNrw4_rWv7rW",
        "outputId": "a7d15e9f-315f-46d2-fe1e-28a11107d951",
        "colab": {
          "base_uri": "https://localhost:8080/",
          "height": 313
        }
      },
      "outputs": [
        {
          "output_type": "execute_result",
          "data": {
            "text/plain": [
              "<matplotlib.legend.Legend at 0x7f9cbcba9750>"
            ]
          },
          "metadata": {},
          "execution_count": 8
        },
        {
          "output_type": "display_data",
          "data": {
            "text/plain": [
              "<Figure size 432x288 with 1 Axes>"
            ],
            "image/png": "[encoded data removed]"
          },
          "metadata": {
            "needs_background": "light"
          }
        }
      ],
      "source": [
        "import matplotlib.pyplot as plt\n",
        "val_loss = history_small_model.history[\"val_loss\"]\n",
        "epochs = range(1, 21)\n",
        "plt.plot(epochs, val_loss, \"b--\",\n",
        "         label=\"Validation loss\")\n",
        "plt.title(\"Effect of insufficient model capacity on validation loss\")\n",
        "plt.xlabel(\"Epochs\")\n",
        "plt.ylabel(\"Loss\")\n",
        "plt.legend()"
      ]
    },
    {
      "cell_type": "code",
      "execution_count": 9,
      "metadata": {
        "id": "iNdsdjg5v7rW",
        "outputId": "bf6f4396-6128-43bb-9304-7122195c8637",
        "colab": {
          "base_uri": "https://localhost:8080/"
        }
      },
      "outputs": [
        {
          "output_type": "stream",
          "name": "stdout",
          "text": [
            "Epoch 1/20\n",
            "375/375 [==============================] - 2s 5ms/step - loss: 0.3618 - accuracy: 0.8998 - val_loss: 0.1888 - val_accuracy: 0.9449\n",
            "Epoch 2/20\n",
            "375/375 [==============================] - 2s 4ms/step - loss: 0.1602 - accuracy: 0.9536 - val_loss: 0.1399 - val_accuracy: 0.9587\n",
            "Epoch 3/20\n",
            "375/375 [==============================] - 2s 4ms/step - loss: 0.1139 - accuracy: 0.9659 - val_loss: 0.1152 - val_accuracy: 0.9643\n",
            "Epoch 4/20\n",
            "375/375 [==============================] - 2s 4ms/step - loss: 0.0889 - accuracy: 0.9730 - val_loss: 0.1155 - val_accuracy: 0.9663\n",
            "Epoch 5/20\n",
            "375/375 [==============================] - 2s 4ms/step - loss: 0.0718 - accuracy: 0.9780 - val_loss: 0.0958 - val_accuracy: 0.9711\n",
            "Epoch 6/20\n",
            "375/375 [==============================] - 2s 4ms/step - loss: 0.0579 - accuracy: 0.9819 - val_loss: 0.0947 - val_accuracy: 0.9726\n",
            "Epoch 7/20\n",
            "375/375 [==============================] - 2s 4ms/step - loss: 0.0476 - accuracy: 0.9850 - val_loss: 0.0877 - val_accuracy: 0.9751\n",
            "Epoch 8/20\n",
            "375/375 [==============================] - 2s 4ms/step - loss: 0.0399 - accuracy: 0.9877 - val_loss: 0.1010 - val_accuracy: 0.9717\n",
            "Epoch 9/20\n",
            "375/375 [==============================] - 2s 4ms/step - loss: 0.0338 - accuracy: 0.9892 - val_loss: 0.0969 - val_accuracy: 0.9744\n",
            "Epoch 10/20\n",
            "375/375 [==============================] - 2s 4ms/step - loss: 0.0286 - accuracy: 0.9914 - val_loss: 0.0993 - val_accuracy: 0.9746\n",
            "Epoch 11/20\n",
            "375/375 [==============================] - 2s 4ms/step - loss: 0.0238 - accuracy: 0.9926 - val_loss: 0.1056 - val_accuracy: 0.9727\n",
            "Epoch 12/20\n",
            "375/375 [==============================] - 2s 4ms/step - loss: 0.0204 - accuracy: 0.9937 - val_loss: 0.1176 - val_accuracy: 0.9718\n",
            "Epoch 13/20\n",
            "375/375 [==============================] - 2s 4ms/step - loss: 0.0181 - accuracy: 0.9948 - val_loss: 0.1155 - val_accuracy: 0.9733\n",
            "Epoch 14/20\n",
            "375/375 [==============================] - 2s 4ms/step - loss: 0.0150 - accuracy: 0.9954 - val_loss: 0.1099 - val_accuracy: 0.9760\n",
            "Epoch 15/20\n",
            "375/375 [==============================] - 1s 4ms/step - loss: 0.0120 - accuracy: 0.9962 - val_loss: 0.1156 - val_accuracy: 0.9749\n",
            "Epoch 16/20\n",
            "375/375 [==============================] - 1s 4ms/step - loss: 0.0101 - accuracy: 0.9967 - val_loss: 0.1195 - val_accuracy: 0.9761\n",
            "Epoch 17/20\n",
            "375/375 [==============================] - 2s 4ms/step - loss: 0.0091 - accuracy: 0.9972 - val_loss: 0.1265 - val_accuracy: 0.9742\n",
            "Epoch 18/20\n",
            "375/375 [==============================] - 1s 4ms/step - loss: 0.0079 - accuracy: 0.9975 - val_loss: 0.1415 - val_accuracy: 0.9722\n",
            "Epoch 19/20\n",
            "375/375 [==============================] - 2s 4ms/step - loss: 0.0069 - accuracy: 0.9979 - val_loss: 0.1316 - val_accuracy: 0.9779\n",
            "Epoch 20/20\n",
            "375/375 [==============================] - 2s 4ms/step - loss: 0.0065 - accuracy: 0.9979 - val_loss: 0.1359 - val_accuracy: 0.9751\n"
          ]
        }
      ],
      "source": [
        "model = keras.Sequential([\n",
        "    layers.Dense(96, activation=\"relu\"),\n",
        "    layers.Dense(96, activation=\"relu\"),\n",
        "    layers.Dense(10, activation=\"softmax\"),\n",
        "])\n",
        "model.compile(optimizer=\"rmsprop\",\n",
        "              loss=\"sparse_categorical_crossentropy\",\n",
        "              metrics=[\"accuracy\"])\n",
        "history_large_model = model.fit(\n",
        "    train_images, train_labels,\n",
        "    epochs=20,\n",
        "    batch_size=128,\n",
        "    validation_split=0.2)"
      ]
    },
    {
      "cell_type": "markdown",
      "metadata": {
        "id": "HDx07tH1v7rX"
      },
      "source": [
        "## Improving generalization"
      ]
    },
    {
      "cell_type": "markdown",
      "metadata": {
        "id": "toG2Oe1Dv7rX"
      },
      "source": [
        "### Dataset curation"
      ]
    },
    {
      "cell_type": "markdown",
      "metadata": {
        "id": "odDbVt0wv7rX"
      },
      "source": [
        "### Feature engineering"
      ]
    },
    {
      "cell_type": "markdown",
      "metadata": {
        "id": "pdna-8aGv7rX"
      },
      "source": [
        "### Using early stopping"
      ]
    },
    {
      "cell_type": "markdown",
      "metadata": {
        "id": "vsB05RCpv7rX"
      },
      "source": [
        "### Regularizing your model"
      ]
    },
    {
      "cell_type": "markdown",
      "metadata": {
        "id": "lgET_4eYv7rY"
      },
      "source": [
        "#### Reducing the network's size"
      ]
    },
    {
      "cell_type": "markdown",
      "metadata": {
        "id": "6nXLAgxFv7rY"
      },
      "source": [
        "**Original model**"
      ]
    },
    {
      "cell_type": "code",
      "execution_count": 10,
      "metadata": {
        "id": "vE55tVxmv7rY",
        "outputId": "39c16ef9-4a47-45a9-ca5e-360ef8b8be34",
        "colab": {
          "base_uri": "https://localhost:8080/"
        }
      },
      "outputs": [
        {
          "output_type": "stream",
          "name": "stdout",
          "text": [
            "Downloading data from https://storage.googleapis.com/tensorflow/tf-keras-datasets/imdb.npz\n",
            "17465344/17464789 [==============================] - 0s 0us/step\n",
            "17473536/17464789 [==============================] - 0s 0us/step\n",
            "Epoch 1/20\n",
            "30/30 [==============================] - 3s 45ms/step - loss: 0.5497 - accuracy: 0.7751 - val_loss: 0.4246 - val_accuracy: 0.8583\n",
            "Epoch 2/20\n",
            "30/30 [==============================] - 1s 20ms/step - loss: 0.3382 - accuracy: 0.8973 - val_loss: 0.3292 - val_accuracy: 0.8778\n",
            "Epoch 3/20\n",
            "30/30 [==============================] - 1s 21ms/step - loss: 0.2389 - accuracy: 0.9265 - val_loss: 0.2913 - val_accuracy: 0.8857\n",
            "Epoch 4/20\n",
            "30/30 [==============================] - 1s 22ms/step - loss: 0.1871 - accuracy: 0.9407 - val_loss: 0.2839 - val_accuracy: 0.8861\n",
            "Epoch 5/20\n",
            "30/30 [==============================] - 1s 21ms/step - loss: 0.1495 - accuracy: 0.9531 - val_loss: 0.2788 - val_accuracy: 0.8885\n",
            "Epoch 6/20\n",
            "30/30 [==============================] - 1s 20ms/step - loss: 0.1233 - accuracy: 0.9623 - val_loss: 0.2951 - val_accuracy: 0.8859\n",
            "Epoch 7/20\n",
            "30/30 [==============================] - 1s 21ms/step - loss: 0.1016 - accuracy: 0.9695 - val_loss: 0.3183 - val_accuracy: 0.8816\n",
            "Epoch 8/20\n",
            "30/30 [==============================] - 1s 20ms/step - loss: 0.0819 - accuracy: 0.9778 - val_loss: 0.3253 - val_accuracy: 0.8831\n",
            "Epoch 9/20\n",
            "30/30 [==============================] - 1s 21ms/step - loss: 0.0691 - accuracy: 0.9822 - val_loss: 0.3607 - val_accuracy: 0.8774\n",
            "Epoch 10/20\n",
            "30/30 [==============================] - 1s 21ms/step - loss: 0.0555 - accuracy: 0.9858 - val_loss: 0.3739 - val_accuracy: 0.8795\n",
            "Epoch 11/20\n",
            "30/30 [==============================] - 1s 21ms/step - loss: 0.0447 - accuracy: 0.9903 - val_loss: 0.4183 - val_accuracy: 0.8749\n",
            "Epoch 12/20\n",
            "30/30 [==============================] - 1s 21ms/step - loss: 0.0364 - accuracy: 0.9919 - val_loss: 0.4357 - val_accuracy: 0.8747\n",
            "Epoch 13/20\n",
            "30/30 [==============================] - 1s 20ms/step - loss: 0.0288 - accuracy: 0.9947 - val_loss: 0.4645 - val_accuracy: 0.8743\n",
            "Epoch 14/20\n",
            "30/30 [==============================] - 1s 21ms/step - loss: 0.0221 - accuracy: 0.9965 - val_loss: 0.4895 - val_accuracy: 0.8748\n",
            "Epoch 15/20\n",
            "30/30 [==============================] - 1s 21ms/step - loss: 0.0192 - accuracy: 0.9961 - val_loss: 0.5250 - val_accuracy: 0.8718\n",
            "Epoch 16/20\n",
            "30/30 [==============================] - 1s 20ms/step - loss: 0.0128 - accuracy: 0.9978 - val_loss: 0.6608 - val_accuracy: 0.8573\n",
            "Epoch 17/20\n",
            "30/30 [==============================] - 1s 24ms/step - loss: 0.0088 - accuracy: 0.9993 - val_loss: 0.5918 - val_accuracy: 0.8679\n",
            "Epoch 18/20\n",
            "30/30 [==============================] - 1s 20ms/step - loss: 0.0086 - accuracy: 0.9989 - val_loss: 0.6261 - val_accuracy: 0.8677\n",
            "Epoch 19/20\n",
            "30/30 [==============================] - 1s 21ms/step - loss: 0.0046 - accuracy: 0.9995 - val_loss: 0.6868 - val_accuracy: 0.8678\n",
            "Epoch 20/20\n",
            "30/30 [==============================] - 1s 22ms/step - loss: 0.0062 - accuracy: 0.9987 - val_loss: 0.7219 - val_accuracy: 0.8686\n"
          ]
        }
      ],
      "source": [
        "from tensorflow.keras.datasets import imdb\n",
        "(train_data, train_labels), _ = imdb.load_data(num_words=10000)\n",
        "\n",
        "def vectorize_sequences(sequences, dimension=10000):\n",
        "    results = np.zeros((len(sequences), dimension))\n",
        "    for i, sequence in enumerate(sequences):\n",
        "        results[i, sequence] = 1.\n",
        "    return results\n",
        "train_data = vectorize_sequences(train_data)\n",
        "\n",
        "model = keras.Sequential([\n",
        "    layers.Dense(16, activation=\"relu\"),\n",
        "    layers.Dense(16, activation=\"relu\"),\n",
        "    layers.Dense(1, activation=\"sigmoid\")\n",
        "])\n",
        "model.compile(optimizer=\"rmsprop\",\n",
        "              loss=\"binary_crossentropy\",\n",
        "              metrics=[\"accuracy\"])\n",
        "history_original = model.fit(train_data, train_labels,\n",
        "                             epochs=20, batch_size=512, validation_split=0.4)"
      ]
    },
    {
      "cell_type": "markdown",
      "metadata": {
        "id": "tFovrysEv7rY"
      },
      "source": [
        "**Version of the model with lower capacity**"
      ]
    },
    {
      "cell_type": "code",
      "execution_count": 11,
      "metadata": {
        "id": "eTHkQnX4v7rY",
        "outputId": "074c77f8-fcf4-4112-ebb6-e55fd1b88be7",
        "colab": {
          "base_uri": "https://localhost:8080/"
        }
      },
      "outputs": [
        {
          "output_type": "stream",
          "name": "stdout",
          "text": [
            "Epoch 1/20\n",
            "30/30 [==============================] - 2s 36ms/step - loss: 0.5552 - accuracy: 0.7779 - val_loss: 0.4584 - val_accuracy: 0.8450\n",
            "Epoch 2/20\n",
            "30/30 [==============================] - 1s 21ms/step - loss: 0.3837 - accuracy: 0.8922 - val_loss: 0.3661 - val_accuracy: 0.8808\n",
            "Epoch 3/20\n",
            "30/30 [==============================] - 1s 21ms/step - loss: 0.3006 - accuracy: 0.9141 - val_loss: 0.3235 - val_accuracy: 0.8840\n",
            "Epoch 4/20\n",
            "30/30 [==============================] - 1s 22ms/step - loss: 0.2487 - accuracy: 0.9272 - val_loss: 0.2957 - val_accuracy: 0.8905\n",
            "Epoch 5/20\n",
            "30/30 [==============================] - 1s 21ms/step - loss: 0.2111 - accuracy: 0.9391 - val_loss: 0.2829 - val_accuracy: 0.8914\n",
            "Epoch 6/20\n",
            "30/30 [==============================] - 1s 25ms/step - loss: 0.1832 - accuracy: 0.9476 - val_loss: 0.2758 - val_accuracy: 0.8913\n",
            "Epoch 7/20\n",
            "30/30 [==============================] - 1s 21ms/step - loss: 0.1616 - accuracy: 0.9527 - val_loss: 0.2741 - val_accuracy: 0.8920\n",
            "Epoch 8/20\n",
            "30/30 [==============================] - 1s 24ms/step - loss: 0.1435 - accuracy: 0.9589 - val_loss: 0.2753 - val_accuracy: 0.8909\n",
            "Epoch 9/20\n",
            "30/30 [==============================] - 1s 21ms/step - loss: 0.1278 - accuracy: 0.9633 - val_loss: 0.2797 - val_accuracy: 0.8894\n",
            "Epoch 10/20\n",
            "30/30 [==============================] - 1s 22ms/step - loss: 0.1143 - accuracy: 0.9685 - val_loss: 0.2873 - val_accuracy: 0.8870\n",
            "Epoch 11/20\n",
            "30/30 [==============================] - 1s 22ms/step - loss: 0.1029 - accuracy: 0.9738 - val_loss: 0.2947 - val_accuracy: 0.8858\n",
            "Epoch 12/20\n",
            "30/30 [==============================] - 1s 21ms/step - loss: 0.0921 - accuracy: 0.9761 - val_loss: 0.3078 - val_accuracy: 0.8829\n",
            "Epoch 13/20\n",
            "30/30 [==============================] - 1s 25ms/step - loss: 0.0836 - accuracy: 0.9791 - val_loss: 0.3229 - val_accuracy: 0.8802\n",
            "Epoch 14/20\n",
            "30/30 [==============================] - 1s 21ms/step - loss: 0.0752 - accuracy: 0.9825 - val_loss: 0.3267 - val_accuracy: 0.8832\n",
            "Epoch 15/20\n",
            "30/30 [==============================] - 1s 21ms/step - loss: 0.0674 - accuracy: 0.9845 - val_loss: 0.3443 - val_accuracy: 0.8786\n",
            "Epoch 16/20\n",
            "30/30 [==============================] - 1s 21ms/step - loss: 0.0612 - accuracy: 0.9862 - val_loss: 0.3551 - val_accuracy: 0.8789\n",
            "Epoch 17/20\n",
            "30/30 [==============================] - 1s 21ms/step - loss: 0.0542 - accuracy: 0.9885 - val_loss: 0.3768 - val_accuracy: 0.8758\n",
            "Epoch 18/20\n",
            "30/30 [==============================] - 1s 25ms/step - loss: 0.0494 - accuracy: 0.9891 - val_loss: 0.3870 - val_accuracy: 0.8766\n",
            "Epoch 19/20\n",
            "30/30 [==============================] - 1s 21ms/step - loss: 0.0436 - accuracy: 0.9913 - val_loss: 0.4011 - val_accuracy: 0.8767\n",
            "Epoch 20/20\n",
            "30/30 [==============================] - 1s 20ms/step - loss: 0.0390 - accuracy: 0.9921 - val_loss: 0.4378 - val_accuracy: 0.8702\n"
          ]
        }
      ],
      "source": [
        "model = keras.Sequential([\n",
        "    layers.Dense(4, activation=\"relu\"),\n",
        "    layers.Dense(4, activation=\"relu\"),\n",
        "    layers.Dense(1, activation=\"sigmoid\")\n",
        "])\n",
        "model.compile(optimizer=\"rmsprop\",\n",
        "              loss=\"binary_crossentropy\",\n",
        "              metrics=[\"accuracy\"])\n",
        "history_smaller_model = model.fit(\n",
        "    train_data, train_labels,\n",
        "    epochs=20, batch_size=512, validation_split=0.4)"
      ]
    },
    {
      "cell_type": "markdown",
      "metadata": {
        "id": "xXK51JQ7v7rZ"
      },
      "source": [
        "**Version of the model with higher capacity**"
      ]
    },
    {
      "cell_type": "code",
      "execution_count": 12,
      "metadata": {
        "id": "3LD3CIgKv7ra",
        "outputId": "a9c90a9f-1681-4c21-8faf-1302babec890",
        "colab": {
          "base_uri": "https://localhost:8080/"
        }
      },
      "outputs": [
        {
          "output_type": "stream",
          "name": "stdout",
          "text": [
            "Epoch 1/20\n",
            "30/30 [==============================] - 2s 48ms/step - loss: 0.5533 - accuracy: 0.7453 - val_loss: 0.3009 - val_accuracy: 0.8808\n",
            "Epoch 2/20\n",
            "30/30 [==============================] - 1s 33ms/step - loss: 0.2644 - accuracy: 0.8972 - val_loss: 0.3961 - val_accuracy: 0.8374\n",
            "Epoch 3/20\n",
            "30/30 [==============================] - 1s 34ms/step - loss: 0.1638 - accuracy: 0.9377 - val_loss: 0.2739 - val_accuracy: 0.8910\n",
            "Epoch 4/20\n",
            "30/30 [==============================] - 1s 35ms/step - loss: 0.0895 - accuracy: 0.9707 - val_loss: 0.3896 - val_accuracy: 0.8802\n",
            "Epoch 5/20\n",
            "30/30 [==============================] - 1s 34ms/step - loss: 0.1295 - accuracy: 0.9779 - val_loss: 0.3566 - val_accuracy: 0.8741\n",
            "Epoch 6/20\n",
            "30/30 [==============================] - 1s 34ms/step - loss: 0.0069 - accuracy: 0.9997 - val_loss: 0.4713 - val_accuracy: 0.8825\n",
            "Epoch 7/20\n",
            "30/30 [==============================] - 1s 33ms/step - loss: 8.6927e-04 - accuracy: 1.0000 - val_loss: 0.6043 - val_accuracy: 0.8852\n",
            "Epoch 8/20\n",
            "30/30 [==============================] - 1s 34ms/step - loss: 1.2475e-04 - accuracy: 1.0000 - val_loss: 0.7019 - val_accuracy: 0.8845\n",
            "Epoch 9/20\n",
            "30/30 [==============================] - 1s 34ms/step - loss: 2.3240e-05 - accuracy: 1.0000 - val_loss: 0.8222 - val_accuracy: 0.8835\n",
            "Epoch 10/20\n",
            "30/30 [==============================] - 1s 34ms/step - loss: 4.6290e-06 - accuracy: 1.0000 - val_loss: 0.9204 - val_accuracy: 0.8833\n",
            "Epoch 11/20\n",
            "30/30 [==============================] - 1s 34ms/step - loss: 1.2006e-06 - accuracy: 1.0000 - val_loss: 1.0059 - val_accuracy: 0.8833\n",
            "Epoch 12/20\n",
            "30/30 [==============================] - 1s 34ms/step - loss: 3.7521e-07 - accuracy: 1.0000 - val_loss: 1.0824 - val_accuracy: 0.8832\n",
            "Epoch 13/20\n",
            "30/30 [==============================] - 1s 34ms/step - loss: 1.3235e-07 - accuracy: 1.0000 - val_loss: 1.1491 - val_accuracy: 0.8836\n",
            "Epoch 14/20\n",
            "30/30 [==============================] - 1s 33ms/step - loss: 5.8685e-08 - accuracy: 1.0000 - val_loss: 1.1987 - val_accuracy: 0.8829\n",
            "Epoch 15/20\n",
            "30/30 [==============================] - 1s 33ms/step - loss: 3.1643e-08 - accuracy: 1.0000 - val_loss: 1.2348 - val_accuracy: 0.8829\n",
            "Epoch 16/20\n",
            "30/30 [==============================] - 1s 34ms/step - loss: 2.0741e-08 - accuracy: 1.0000 - val_loss: 1.2584 - val_accuracy: 0.8830\n",
            "Epoch 17/20\n",
            "30/30 [==============================] - 1s 34ms/step - loss: 1.5338e-08 - accuracy: 1.0000 - val_loss: 1.2780 - val_accuracy: 0.8828\n",
            "Epoch 18/20\n",
            "30/30 [==============================] - 1s 33ms/step - loss: 1.2183e-08 - accuracy: 1.0000 - val_loss: 1.2901 - val_accuracy: 0.8834\n",
            "Epoch 19/20\n",
            "30/30 [==============================] - 1s 34ms/step - loss: 1.0097e-08 - accuracy: 1.0000 - val_loss: 1.3007 - val_accuracy: 0.8831\n",
            "Epoch 20/20\n",
            "30/30 [==============================] - 1s 33ms/step - loss: 8.6350e-09 - accuracy: 1.0000 - val_loss: 1.3118 - val_accuracy: 0.8829\n"
          ]
        }
      ],
      "source": [
        "model = keras.Sequential([\n",
        "    layers.Dense(512, activation=\"relu\"),\n",
        "    layers.Dense(512, activation=\"relu\"),\n",
        "    layers.Dense(1, activation=\"sigmoid\")\n",
        "])\n",
        "model.compile(optimizer=\"rmsprop\",\n",
        "              loss=\"binary_crossentropy\",\n",
        "              metrics=[\"accuracy\"])\n",
        "history_larger_model = model.fit(\n",
        "    train_data, train_labels,\n",
        "    epochs=20, batch_size=512, validation_split=0.4)"
      ]
    },
    {
      "cell_type": "markdown",
      "metadata": {
        "id": "YSWWiMFWv7ra"
      },
      "source": [
        "#### Adding weight regularization"
      ]
    },
    {
      "cell_type": "markdown",
      "metadata": {
        "id": "cnR9Vw7kv7ra"
      },
      "source": [
        "**Adding L2 weight regularization to the model**"
      ]
    },
    {
      "cell_type": "code",
      "execution_count": 13,
      "metadata": {
        "id": "O7am6imGv7rb",
        "outputId": "f376b2f6-af28-4fa5-a7f8-e3ee16e4ca63",
        "colab": {
          "base_uri": "https://localhost:8080/"
        }
      },
      "outputs": [
        {
          "output_type": "stream",
          "name": "stdout",
          "text": [
            "Epoch 1/20\n",
            "30/30 [==============================] - 2s 36ms/step - loss: 0.5913 - accuracy: 0.7837 - val_loss: 0.4740 - val_accuracy: 0.8447\n",
            "Epoch 2/20\n",
            "30/30 [==============================] - 1s 20ms/step - loss: 0.3935 - accuracy: 0.8939 - val_loss: 0.3801 - val_accuracy: 0.8879\n",
            "Epoch 3/20\n",
            "30/30 [==============================] - 1s 22ms/step - loss: 0.3223 - accuracy: 0.9169 - val_loss: 0.3628 - val_accuracy: 0.8859\n",
            "Epoch 4/20\n",
            "30/30 [==============================] - 1s 21ms/step - loss: 0.2903 - accuracy: 0.9250 - val_loss: 0.3693 - val_accuracy: 0.8782\n",
            "Epoch 5/20\n",
            "30/30 [==============================] - 1s 21ms/step - loss: 0.2713 - accuracy: 0.9327 - val_loss: 0.3538 - val_accuracy: 0.8865\n",
            "Epoch 6/20\n",
            "30/30 [==============================] - 1s 21ms/step - loss: 0.2598 - accuracy: 0.9367 - val_loss: 0.3573 - val_accuracy: 0.8852\n",
            "Epoch 7/20\n",
            "30/30 [==============================] - 1s 24ms/step - loss: 0.2506 - accuracy: 0.9402 - val_loss: 0.3697 - val_accuracy: 0.8816\n",
            "Epoch 8/20\n",
            "30/30 [==============================] - 1s 21ms/step - loss: 0.2373 - accuracy: 0.9483 - val_loss: 0.3623 - val_accuracy: 0.8833\n",
            "Epoch 9/20\n",
            "30/30 [==============================] - 1s 20ms/step - loss: 0.2340 - accuracy: 0.9445 - val_loss: 0.3706 - val_accuracy: 0.8820\n",
            "Epoch 10/20\n",
            "30/30 [==============================] - 1s 20ms/step - loss: 0.2269 - accuracy: 0.9496 - val_loss: 0.3778 - val_accuracy: 0.8803\n",
            "Epoch 11/20\n",
            "30/30 [==============================] - 1s 21ms/step - loss: 0.2251 - accuracy: 0.9499 - val_loss: 0.3792 - val_accuracy: 0.8795\n",
            "Epoch 12/20\n",
            "30/30 [==============================] - 1s 21ms/step - loss: 0.2212 - accuracy: 0.9507 - val_loss: 0.3934 - val_accuracy: 0.8763\n",
            "Epoch 13/20\n",
            "30/30 [==============================] - 1s 21ms/step - loss: 0.2141 - accuracy: 0.9523 - val_loss: 0.3967 - val_accuracy: 0.8753\n",
            "Epoch 14/20\n",
            "30/30 [==============================] - 1s 21ms/step - loss: 0.2110 - accuracy: 0.9561 - val_loss: 0.4879 - val_accuracy: 0.8491\n",
            "Epoch 15/20\n",
            "30/30 [==============================] - 1s 25ms/step - loss: 0.2108 - accuracy: 0.9553 - val_loss: 0.3931 - val_accuracy: 0.8793\n",
            "Epoch 16/20\n",
            "30/30 [==============================] - 1s 21ms/step - loss: 0.2020 - accuracy: 0.9599 - val_loss: 0.4237 - val_accuracy: 0.8702\n",
            "Epoch 17/20\n",
            "30/30 [==============================] - 1s 22ms/step - loss: 0.2056 - accuracy: 0.9568 - val_loss: 0.4226 - val_accuracy: 0.8715\n",
            "Epoch 18/20\n",
            "30/30 [==============================] - 1s 25ms/step - loss: 0.2001 - accuracy: 0.9594 - val_loss: 0.4046 - val_accuracy: 0.8779\n",
            "Epoch 19/20\n",
            "30/30 [==============================] - 1s 25ms/step - loss: 0.1988 - accuracy: 0.9605 - val_loss: 0.4059 - val_accuracy: 0.8763\n",
            "Epoch 20/20\n",
            "30/30 [==============================] - 1s 24ms/step - loss: 0.1947 - accuracy: 0.9615 - val_loss: 0.4147 - val_accuracy: 0.8760\n"
          ]
        }
      ],
      "source": [
        "from tensorflow.keras import regularizers\n",
        "model = keras.Sequential([\n",
        "    layers.Dense(16,\n",
        "                 kernel_regularizer=regularizers.l2(0.002),\n",
        "                 activation=\"relu\"),\n",
        "    layers.Dense(16,\n",
        "                 kernel_regularizer=regularizers.l2(0.002),\n",
        "                 activation=\"relu\"),\n",
        "    layers.Dense(1, activation=\"sigmoid\")\n",
        "])\n",
        "model.compile(optimizer=\"rmsprop\",\n",
        "              loss=\"binary_crossentropy\",\n",
        "              metrics=[\"accuracy\"])\n",
        "history_l2_reg = model.fit(\n",
        "    train_data, train_labels,\n",
        "    epochs=20, batch_size=512, validation_split=0.4)"
      ]
    },
    {
      "cell_type": "markdown",
      "metadata": {
        "id": "k64rAjRGv7rb"
      },
      "source": [
        "**Different weight regularizers available in Keras**"
      ]
    },
    {
      "cell_type": "code",
      "execution_count": 14,
      "metadata": {
        "id": "w5RkkuE5v7rb",
        "outputId": "7799f8f2-d91b-4193-9a60-9e1da086866e",
        "colab": {
          "base_uri": "https://localhost:8080/"
        }
      },
      "outputs": [
        {
          "output_type": "execute_result",
          "data": {
            "text/plain": [
              "<keras.regularizers.L1L2 at 0x7f9caf9bac50>"
            ]
          },
          "metadata": {},
          "execution_count": 14
        }
      ],
      "source": [
        "from tensorflow.keras import regularizers\n",
        "regularizers.l1(0.001)\n",
        "regularizers.l1_l2(l1=0.001, l2=0.001)"
      ]
    },
    {
      "cell_type": "markdown",
      "metadata": {
        "id": "tK_x3-d2v7rc"
      },
      "source": [
        "#### Adding dropout"
      ]
    },
    {
      "cell_type": "markdown",
      "metadata": {
        "id": "PRuHGOefv7rc"
      },
      "source": [
        "**Adding dropout to the IMDB model**"
      ]
    },
    {
      "cell_type": "code",
      "execution_count": 15,
      "metadata": {
        "id": "76D58mqOv7ri",
        "outputId": "db84d1e2-ce19-4b0e-f353-663032331509",
        "colab": {
          "base_uri": "https://localhost:8080/"
        }
      },
      "outputs": [
        {
          "output_type": "stream",
          "name": "stdout",
          "text": [
            "Epoch 1/20\n",
            "30/30 [==============================] - 2s 36ms/step - loss: 0.6353 - accuracy: 0.6287 - val_loss: 0.5232 - val_accuracy: 0.8548\n",
            "Epoch 2/20\n",
            "30/30 [==============================] - 1s 24ms/step - loss: 0.5308 - accuracy: 0.7381 - val_loss: 0.4320 - val_accuracy: 0.8736\n",
            "Epoch 3/20\n",
            "30/30 [==============================] - 1s 21ms/step - loss: 0.4631 - accuracy: 0.7921 - val_loss: 0.3682 - val_accuracy: 0.8699\n",
            "Epoch 4/20\n",
            "30/30 [==============================] - 1s 24ms/step - loss: 0.4037 - accuracy: 0.8289 - val_loss: 0.3282 - val_accuracy: 0.8891\n",
            "Epoch 5/20\n",
            "30/30 [==============================] - 1s 21ms/step - loss: 0.3528 - accuracy: 0.8669 - val_loss: 0.2933 - val_accuracy: 0.8939\n",
            "Epoch 6/20\n",
            "30/30 [==============================] - 1s 21ms/step - loss: 0.3103 - accuracy: 0.8859 - val_loss: 0.2802 - val_accuracy: 0.8919\n",
            "Epoch 7/20\n",
            "30/30 [==============================] - 1s 22ms/step - loss: 0.2764 - accuracy: 0.9031 - val_loss: 0.2718 - val_accuracy: 0.8948\n",
            "Epoch 8/20\n",
            "30/30 [==============================] - 1s 21ms/step - loss: 0.2522 - accuracy: 0.9121 - val_loss: 0.2903 - val_accuracy: 0.8847\n",
            "Epoch 9/20\n",
            "30/30 [==============================] - 1s 22ms/step - loss: 0.2243 - accuracy: 0.9274 - val_loss: 0.2798 - val_accuracy: 0.8931\n",
            "Epoch 10/20\n",
            "30/30 [==============================] - 1s 21ms/step - loss: 0.2100 - accuracy: 0.9325 - val_loss: 0.2917 - val_accuracy: 0.8926\n",
            "Epoch 11/20\n",
            "30/30 [==============================] - 1s 22ms/step - loss: 0.1804 - accuracy: 0.9387 - val_loss: 0.3074 - val_accuracy: 0.8904\n",
            "Epoch 12/20\n",
            "30/30 [==============================] - 1s 21ms/step - loss: 0.1612 - accuracy: 0.9464 - val_loss: 0.3391 - val_accuracy: 0.8907\n",
            "Epoch 13/20\n",
            "30/30 [==============================] - 1s 21ms/step - loss: 0.1498 - accuracy: 0.9500 - val_loss: 0.3541 - val_accuracy: 0.8878\n",
            "Epoch 14/20\n",
            "30/30 [==============================] - 1s 21ms/step - loss: 0.1368 - accuracy: 0.9556 - val_loss: 0.3662 - val_accuracy: 0.8901\n",
            "Epoch 15/20\n",
            "30/30 [==============================] - 1s 21ms/step - loss: 0.1282 - accuracy: 0.9584 - val_loss: 0.3924 - val_accuracy: 0.8890\n",
            "Epoch 16/20\n",
            "30/30 [==============================] - 1s 25ms/step - loss: 0.1168 - accuracy: 0.9618 - val_loss: 0.4251 - val_accuracy: 0.8844\n",
            "Epoch 17/20\n",
            "30/30 [==============================] - 1s 25ms/step - loss: 0.1078 - accuracy: 0.9651 - val_loss: 0.4340 - val_accuracy: 0.8867\n",
            "Epoch 18/20\n",
            "30/30 [==============================] - 1s 25ms/step - loss: 0.1042 - accuracy: 0.9653 - val_loss: 0.4512 - val_accuracy: 0.8834\n",
            "Epoch 19/20\n",
            "30/30 [==============================] - 1s 21ms/step - loss: 0.0977 - accuracy: 0.9676 - val_loss: 0.4755 - val_accuracy: 0.8868\n",
            "Epoch 20/20\n",
            "30/30 [==============================] - 1s 25ms/step - loss: 0.0932 - accuracy: 0.9705 - val_loss: 0.5109 - val_accuracy: 0.8861\n"
          ]
        }
      ],
      "source": [
        "model = keras.Sequential([\n",
        "    layers.Dense(16, activation=\"relu\"),\n",
        "    layers.Dropout(0.5),\n",
        "    layers.Dense(16, activation=\"relu\"),\n",
        "    layers.Dropout(0.5),\n",
        "    layers.Dense(1, activation=\"sigmoid\")\n",
        "])\n",
        "model.compile(optimizer=\"rmsprop\",\n",
        "              loss=\"binary_crossentropy\",\n",
        "              metrics=[\"accuracy\"])\n",
        "history_dropout = model.fit(\n",
        "    train_data, train_labels,\n",
        "    epochs=20, batch_size=512, validation_split=0.4)"
      ]
    },
    {
      "cell_type": "markdown",
      "metadata": {
        "id": "rcXv2gADv7ri"
      },
      "source": [
        "## Summary"
      ]
    }
  ],
  "metadata": {
    "colab": {
      "collapsed_sections": [],
      "name": "chapter05_fundamentals-of-ml.i",
      "provenance": [],
      "toc_visible": true
    },
    "kernelspec": {
      "display_name": "Python 3",
      "language": "python",
      "name": "python3"
    },
    "language_info": {
      "codemirror_mode": {
        "name": "ipython",
        "version": 3
      },
      "file_extension": ".py",
      "mimetype": "text/x-python",
      "name": "python",
      "nbconvert_exporter": "python",
      "pygments_lexer": "ipython3",
      "version": "3.7.0"
    },
    "accelerator": "GPU"
  },
  "nbformat": 4,
  "nbformat_minor": 0
}